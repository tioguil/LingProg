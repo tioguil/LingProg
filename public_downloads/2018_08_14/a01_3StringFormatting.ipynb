{
 "cells": [
  {
   "cell_type": "markdown",
   "metadata": {},
   "source": [
    "## Formatação com Placeholders"
   ]
  },
  {
   "cell_type": "code",
   "execution_count": 1,
   "metadata": {},
   "outputs": [
    {
     "name": "stdout",
     "output_type": "stream",
     "text": [
      "Vou inserir alguma coisa aqui.\n",
      "Agora tenho uma coisa e outra coisa\n"
     ]
    }
   ],
   "source": [
    "print('Vou inserir %s aqui.' %'alguma coisa')\n",
    "print('Agora tenho %s coisa e %s coisa' % (\"uma\", \"outra\"))"
   ]
  },
  {
   "cell_type": "code",
   "execution_count": 2,
   "metadata": {},
   "outputs": [
    {
     "name": "stdout",
     "output_type": "stream",
     "text": [
      "O valor de x é 3.141593\n"
     ]
    }
   ],
   "source": [
    "x = 3.14159265\n",
    "print('O valor de x é %f' %x)"
   ]
  },
  {
   "cell_type": "code",
   "execution_count": 3,
   "metadata": {},
   "outputs": [
    {
     "name": "stdout",
     "output_type": "stream",
     "text": [
      "O valor de x é 3.14\n"
     ]
    }
   ],
   "source": [
    "x = 3.14159265\n",
    "print('O valor de x é %.2f' %x)"
   ]
  },
  {
   "cell_type": "code",
   "execution_count": 4,
   "metadata": {},
   "outputs": [
    {
     "name": "stdout",
     "output_type": "stream",
     "text": [
      "O valor de x é 3.1416\n"
     ]
    }
   ],
   "source": [
    "#veja o arredondamento\n",
    "x = 3.14159265\n",
    "print('O valor de x é %.4f' %x)"
   ]
  },
  {
   "cell_type": "code",
   "execution_count": 6,
   "metadata": {},
   "outputs": [
    {
     "name": "stdout",
     "output_type": "stream",
     "text": [
      "O valor de x é       3.14\n"
     ]
    }
   ],
   "source": [
    "x = 3.14159265\n",
    "print('O valor de x é %10.2f' %x)"
   ]
  },
  {
   "cell_type": "markdown",
   "metadata": {},
   "source": [
    "## Formatação com .format()"
   ]
  },
  {
   "cell_type": "code",
   "execution_count": 7,
   "metadata": {},
   "outputs": [
    {
     "name": "stdout",
     "output_type": "stream",
     "text": [
      "Vou inserir alguma coisa aqui.\n"
     ]
    }
   ],
   "source": [
    "print('Vou inserir {} aqui.'.format('alguma coisa'))"
   ]
  },
  {
   "cell_type": "code",
   "execution_count": 10,
   "metadata": {},
   "outputs": [
    {
     "name": "stdout",
     "output_type": "stream",
     "text": [
      "Vou inserir três coisas. A primeira, a segunda e a terceira.\n"
     ]
    }
   ],
   "source": [
    "print('Vou inserir três coisas. A {}, a {} e a {}.'\n",
    "      .format('primeira', 'segunda', 'terceira'))"
   ]
  },
  {
   "cell_type": "code",
   "execution_count": 12,
   "metadata": {},
   "outputs": [
    {
     "name": "stdout",
     "output_type": "stream",
     "text": [
      "Vou inserir três coisas. A terceira, a segunda e a primeira.\n"
     ]
    }
   ],
   "source": [
    "print('Vou inserir três coisas. A {2}, a {1} e a {0}.'\n",
    "      .format('primeira', 'segunda', 'terceira'))"
   ]
  },
  {
   "cell_type": "code",
   "execution_count": 13,
   "metadata": {},
   "outputs": [
    {
     "name": "stdout",
     "output_type": "stream",
     "text": [
      "Vou inserir três coisas. A terceira, a segunda e a primeira.\n"
     ]
    }
   ],
   "source": [
    "print('Vou inserir três coisas. A {2}, a {1} e a {0}.'\n",
    "      .format('primeira', 'segunda', 'terceira'))"
   ]
  },
  {
   "cell_type": "code",
   "execution_count": 15,
   "metadata": {},
   "outputs": [
    {
     "name": "stdout",
     "output_type": "stream",
     "text": [
      "Fruta    | Qtde     \n",
      "Maças    |       3.0\n",
      "Laranjas |        10\n"
     ]
    }
   ],
   "source": [
    "\n",
    "print('{0:8} | {1:9}'.format('Fruta', 'Qtde'))\n",
    "print('{0:8} | {1:9}'.format('Maças', 3.0))\n",
    "print('{0:8} | {1:9}'.format('Laranjas', 10))"
   ]
  },
  {
   "cell_type": "markdown",
   "metadata": {},
   "source": [
    "## Formatação com f-string\n",
    "Introduzida com o Python 3"
   ]
  },
  {
   "cell_type": "code",
   "execution_count": 16,
   "metadata": {},
   "outputs": [
    {
     "name": "stdout",
     "output_type": "stream",
     "text": [
      "Ele disse que seu nome é José.\n"
     ]
    }
   ],
   "source": [
    "nome = 'José'\n",
    "print(f'Ele disse que seu nome é {nome}.')"
   ]
  },
  {
   "cell_type": "code",
   "execution_count": 19,
   "metadata": {},
   "outputs": [
    {
     "name": "stdout",
     "output_type": "stream",
     "text": [
      "o numero é    23.4568\n",
      "o numero é    23.4568\n"
     ]
    }
   ],
   "source": [
    "num=23.45678\n",
    "print('o numero é {0:10.4f}'.format(num))\n",
    "print(f'o numero é {num:{10}.{6}}')"
   ]
  },
  {
   "cell_type": "code",
   "execution_count": 12,
   "metadata": {},
   "outputs": [
    {
     "name": "stdout",
     "output_type": "stream",
     "text": [
      "o numero é    23.4500\n",
      "o numero é       23.4\n"
     ]
    }
   ],
   "source": [
    "#f-string não faz padding\n",
    "num=23.45\n",
    "#{t:d.pf}: t escolhe a tupla começando de 0, d é a qtde de caracteres e p a precisão\n",
    "print('o numero é {0:10.4f}'.format(num))\n",
    "#como f-string não faz padding, 3 depois do . dá 23.4, 4 dá 23.45, 5 dá 23.45 etc\n",
    "print(f'o numero é {num:{10}.{3}}')"
   ]
  },
  {
   "cell_type": "code",
   "execution_count": 23,
   "metadata": {},
   "outputs": [
    {
     "name": "stdout",
     "output_type": "stream",
     "text": [
      "o numero é    23.4500\n",
      "o numero é    23.4500\n"
     ]
    }
   ],
   "source": [
    "#misture com .format()\n",
    "num=23.45\n",
    "print('o numero é {0:10.4f}'.format(num))\n",
    "print(f'o numero é {num:10.4f}')"
   ]
  },
  {
   "cell_type": "code",
   "execution_count": null,
   "metadata": {},
   "outputs": [],
   "source": []
  }
 ],
 "metadata": {
  "kernelspec": {
   "display_name": "Python 3",
   "language": "python",
   "name": "python3"
  },
  "language_info": {
   "codemirror_mode": {
    "name": "ipython",
    "version": 3
   },
   "file_extension": ".py",
   "mimetype": "text/x-python",
   "name": "python",
   "nbconvert_exporter": "python",
   "pygments_lexer": "ipython3",
   "version": "3.6.4"
  }
 },
 "nbformat": 4,
 "nbformat_minor": 2
}
